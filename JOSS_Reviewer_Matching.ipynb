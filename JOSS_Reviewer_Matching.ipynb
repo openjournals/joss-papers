{
 "cells": [
  {
   "cell_type": "markdown",
   "metadata": {},
   "source": [
    "# JOSS Reviewer Matching \n"
   ]
  },
  {
   "cell_type": "markdown",
   "metadata": {},
   "source": [
    "Algorithm to match JOSS reviewers to submitted papers"
   ]
  },
  {
   "cell_type": "code",
   "execution_count": null,
   "metadata": {},
   "outputs": [],
   "source": [
    "import glob\n",
    "from tqdm import tqdm \n",
    "from pdfminer.high_level import extract_text\n",
    "import pandas as pd\n",
    "from sklearn.feature_extraction.text import TfidfVectorizer\n",
    "import nltk \n",
    "nltk.download('stopwords')\n",
    "import numpy as np\n",
    "from sklearn.pipeline import Pipeline\n",
    "from sklearn.feature_extraction.text import TfidfTransformer\n",
    "from sklearn.feature_extraction.text import CountVectorizer"
   ]
  },
  {
   "cell_type": "markdown",
   "metadata": {},
   "source": [
    "`JOSS_PAPERS_DIR` = where the JOSS papers subjected for reviewing are located. EX. In my jupyterhub the papers are in the projects folder, then in the joss-papers folder. This will change depending on your personal directory for the PDFs."
   ]
  },
  {
   "cell_type": "markdown",
   "metadata": {},
   "source": [
    "`JOSS_REVIWERS_DB_FNAME` = the location where the spreadsheet containing the reviewers information comes from. Make sure to include the file type (.xlsx) so the spreadsheet can be accessed. This will change depending on your personal location of the reviewer spreadsheet."
   ]
  },
  {
   "cell_type": "markdown",
   "metadata": {},
   "source": [
    "`PAPER_OF_INTEREST_FNAME` = where the paper that is being matched to the reviewer is located. This will change depending on your location of the paper of interest."
   ]
  },
  {
   "cell_type": "markdown",
   "metadata": {},
   "source": [
    "__** This cell is the only one that should need adjusting! The rest of the cells just need to be run. **__\n",
    "\n"
   ]
  },
  {
   "cell_type": "code",
   "execution_count": null,
   "metadata": {},
   "outputs": [],
   "source": [
    "JOSS_PAPERS_DIR = \"./\"\n",
    "# A local version is already in this repository. Download a new version at \n",
    "# http://bit.ly/joss-reviewers and upload to JupyterLab session if you want the latest reviewer list.\n",
    "JOSS_REVIEWERS_DB_FNAME = \"./joss_reviewers.xlsx\"\n",
    "# Download Whedon-generated paper from pre-review issue thread and upload to JupyterLab session\n",
    "# xxxxx = paper number found in the filename (be sure to include leading zero/s)\n",
    "PAPER_OF_INTEREST_FNAME = \"./10.21105.joss.xxxxx.pdf\""
   ]
  },
  {
   "cell_type": "markdown",
   "metadata": {},
   "source": [
    "## 1. Import & extract papers\n"
   ]
  },
  {
   "cell_type": "markdown",
   "metadata": {},
   "source": [
    "The papers were imported into a folder in jupyterhub from github. This needs to be done before extracting the pdf of the paper for review."
   ]
  },
  {
   "cell_type": "markdown",
   "metadata": {},
   "source": [
    "`ALL_JOSS_FNAME` = Find all of the pdfs of the JOSS papers within `JOSS_PAPERS_DIR`"
   ]
  },
  {
   "cell_type": "markdown",
   "metadata": {},
   "source": [
    "`JOSS_PDF` = A list of all of the pdfs of JOSS papers"
   ]
  },
  {
   "cell_type": "markdown",
   "metadata": {},
   "source": [
    "The pdfs of the papers are put into the JOSS_PDF list so their contents can be later extracted."
   ]
  },
  {
   "cell_type": "code",
   "execution_count": null,
   "metadata": {},
   "outputs": [],
   "source": [
    "ALL_JOSS_FNAME=list(glob.glob(JOSS_PAPERS_DIR+'/**/*.pdf'))\n",
    "JOSS_PDF = [extract_text(fname) for fname in tqdm(ALL_JOSS_FNAME)]"
   ]
  },
  {
   "cell_type": "markdown",
   "metadata": {},
   "source": [
    "`POI_PDF` = The paper of interest to be matched with a reviewer"
   ]
  },
  {
   "cell_type": "code",
   "execution_count": null,
   "metadata": {},
   "outputs": [],
   "source": [
    "POI_PDF = [extract_text(PAPER_OF_INTEREST_FNAME)]"
   ]
  },
  {
   "cell_type": "markdown",
   "metadata": {},
   "source": [
    "## 2. Import & extract reviewer information"
   ]
  },
  {
   "cell_type": "markdown",
   "metadata": {},
   "source": [
    "The reviewers information needs to be imported from the shared google sheet."
   ]
  },
  {
   "cell_type": "markdown",
   "metadata": {},
   "source": [
    "`JOSS_EXCEL` = Opens and reads the excel file of reviewers."
   ]
  },
  {
   "cell_type": "markdown",
   "metadata": {},
   "source": [
    "`JOSS_EXCEL_FINAL` = Replaces all of the NaNs with an empty string."
   ]
  },
  {
   "cell_type": "code",
   "execution_count": null,
   "metadata": {},
   "outputs": [],
   "source": [
    "JOSS_EXCEL = pd.read_excel(JOSS_REVIEWERS_DB_FNAME)\n",
    "new_header = JOSS_EXCEL.iloc[0] \n",
    "JOSS_EXCEL = JOSS_EXCEL[1:] \n",
    "JOSS_EXCEL.columns = new_header\n",
    "JOSS_EXCEL.drop(index = 1)\n",
    "JOSS_EXCEL_FINAL = JOSS_EXCEL.replace(np.nan, '')\n",
    "USERNAME = JOSS_EXCEL_FINAL['username'].to_list()\n",
    "ACTIVE_REVIEWS = JOSS_EXCEL_FINAL['Active reviews'].to_list()\n",
    "LAST_QUARTER_REVIEWS = JOSS_EXCEL_FINAL['Review count(last quarter)'].to_list()\n",
    "LAST_YEAR_REVIEWS = JOSS_EXCEL_FINAL['Review count(last year)'].to_list()\n",
    "TOTAL_REVIEWS = JOSS_EXCEL_FINAL['Review count(all time)'].to_list()"
   ]
  },
  {
   "cell_type": "code",
   "execution_count": null,
   "metadata": {},
   "outputs": [],
   "source": [
    "REVIEWER_TOPICS = JOSS_EXCEL_FINAL['Domains/topic areas you are comfortable reviewing'].to_list()\n",
    "REVIEWER_TOPICS_FINAL = []\n",
    "for topic in REVIEWER_TOPICS:\n",
    "    topic = topic.replace('\\n', ',').replace('/', ',').replace('\"', ',').replace('&', ',')\n",
    "    topic = [item.strip().lower() for item in str(topic).split(\",\")]\n",
    "    REVIEWER_TOPICS_FINAL.extend(topic)\n",
    "#vocabulary used by reviewers to describe the work they are comfortable reviewing \n",
    "reviewer_vocab = np.unique(REVIEWER_TOPICS_FINAL)[1:]"
   ]
  },
  {
   "cell_type": "markdown",
   "metadata": {},
   "source": [
    "## 3. Vectorize the words"
   ]
  },
  {
   "cell_type": "markdown",
   "metadata": {},
   "source": [
    "Now the words from the pdf will be vectorized using TFIDF, which will determine the weight of the words in the documents based off of how many times they appear. This needs to be done to match the paper to a reviewer."
   ]
  },
  {
   "cell_type": "code",
   "execution_count": null,
   "metadata": {},
   "outputs": [],
   "source": [
    "tfidf_vectorizer = TfidfVectorizer(stop_words='english', vocabulary = reviewer_vocab)\n",
    "reviewer_vectors = tfidf_vectorizer.fit_transform(REVIEWER_TOPICS)\n",
    "column_names = tfidf_vectorizer.get_feature_names()\n",
    "reviewer_vectors_matrix = reviewer_vectors.todense()\n",
    "reviewer_matrix_list = reviewer_vectors_matrix.tolist()\n",
    "df_tfidf_reviewers = pd.DataFrame(reviewer_matrix_list, columns=column_names)"
   ]
  },
  {
   "cell_type": "code",
   "execution_count": null,
   "metadata": {},
   "outputs": [],
   "source": [
    "cv = CountVectorizer(stop_words='english', vocabulary = reviewer_vocab)\n",
    "poi_vector=cv.transform(POI_PDF)\n",
    "joss_pdf_vector = cv.fit_transform(JOSS_PDF)\n",
    "tfidf_transformer=TfidfTransformer(smooth_idf=True,use_idf=True)\n",
    "tfidf_transformer.fit(joss_pdf_vector)\n",
    "df_idf = pd.DataFrame(tfidf_transformer.idf_, index=cv.get_feature_names(),columns=[\"idf_weights\"])\n",
    "df_idf_transform = df_idf.T"
   ]
  },
  {
   "cell_type": "code",
   "execution_count": null,
   "metadata": {},
   "outputs": [],
   "source": [
    "tfidf_vector=tfidf_transformer.transform(poi_vector)\n",
    "feature_names = cv.get_feature_names()\n",
    "df_tfidf = pd.DataFrame(tfidf_vector.T.todense(), columns=[\"tfidf\"], index=feature_names)\n",
    "df_poi = df_tfidf.T"
   ]
  },
  {
   "cell_type": "markdown",
   "metadata": {},
   "source": [
    "## 4. Dot Product for top 10 reviewer suggestions"
   ]
  },
  {
   "cell_type": "markdown",
   "metadata": {},
   "source": [
    "\n",
    "Now we will calculate the dot product to see how well the reviewers match to a specific paper. `df_reviewers.iloc[0:x]` is the whole range of reviewers. `df_poi.iloc[0]` is the paper in question"
   ]
  },
  {
   "cell_type": "markdown",
   "metadata": {},
   "source": [
    "The output of the cell below `top_10_reviewers` will be the reccomended top 10 reviewers for the paper of interest."
   ]
  },
  {
   "cell_type": "code",
   "execution_count": null,
   "metadata": {},
   "outputs": [],
   "source": [
    "x =(len(df_tfidf_reviewers))\n",
    "dot_prod = (np.dot(df_tfidf_reviewers.iloc[0: x], df_poi.iloc[0]))\n",
    "paper_used = []\n",
    "for i, value in enumerate (dot_prod):\n",
    "    paper_used.append(value)\n",
    "paper_of_interest = {'Dot Product':paper_used, 'Username':USERNAME, 'Topics':REVIEWER_TOPICS, 'Active Reviews': ACTIVE_REVIEWS, 'Last Quarter Reviews': LAST_QUARTER_REVIEWS, 'Last Year Reviews': LAST_YEAR_REVIEWS, 'Total Reviews': TOTAL_REVIEWS}\n",
    "df_paper_of_interest = pd.DataFrame(paper_of_interest)\n",
    "top_10_reviewer = df_paper_of_interest.nlargest(10, 'Dot Product')\n",
    "top_10_reviewer"
   ]
  }
 ],
 "metadata": {
  "kernelspec": {
   "display_name": "Python 3",
   "language": "python",
   "name": "python3"
  },
  "language_info": {
   "codemirror_mode": {
    "name": "ipython",
    "version": 3
   },
   "file_extension": ".py",
   "mimetype": "text/x-python",
   "name": "python",
   "nbconvert_exporter": "python",
   "pygments_lexer": "ipython3",
   "version": "3.7.7"
  }
 },
 "nbformat": 4,
 "nbformat_minor": 4
}
